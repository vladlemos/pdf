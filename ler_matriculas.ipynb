{
 "cells": [
  {
   "cell_type": "code",
   "execution_count": 9,
   "id": "238ce89f-81f9-4306-931f-2f03474dfdf2",
   "metadata": {},
   "outputs": [],
   "source": [
    "import pandas as pd"
   ]
  },
  {
   "cell_type": "code",
   "execution_count": 10,
   "id": "85d934d5-d990-4c2c-b439-37ae5632eb5b",
   "metadata": {},
   "outputs": [],
   "source": [
    "import os"
   ]
  },
  {
   "cell_type": "code",
   "execution_count": 11,
   "id": "46059a60-20f1-4dec-a294-51262dba07e6",
   "metadata": {},
   "outputs": [],
   "source": [
    "diretorio = r'C:\\Users\\vladi\\Downloads\\quinta\\matriculas'\n",
    "arquivos = os.listdir(diretorio)"
   ]
  },
  {
   "cell_type": "code",
   "execution_count": 12,
   "id": "5bf48550-3e2f-44b6-809e-0fc87adeaaed",
   "metadata": {},
   "outputs": [
    {
     "data": {
      "text/plain": [
       "['1555530593569.pdf', '8444428223126.pdf', '8787702651030.pdf']"
      ]
     },
     "execution_count": 12,
     "metadata": {},
     "output_type": "execute_result"
    }
   ],
   "source": [
    "arquivos"
   ]
  },
  {
   "cell_type": "code",
   "execution_count": 13,
   "id": "db65fc7d-4161-4805-a9f9-a5349699f1e5",
   "metadata": {},
   "outputs": [],
   "source": [
    "from extrai_texto import extract_text_from_pdf as extrair_texto"
   ]
  },
  {
   "cell_type": "code",
   "execution_count": 16,
   "id": "23fd0216-281c-4180-932f-edb33ca269f5",
   "metadata": {},
   "outputs": [
    {
     "name": "stdout",
     "output_type": "stream",
     "text": [
      "Texto insuficiente (84 caracteres). Aplicando OCR...\n",
      "\n",
      "Arquivo 1: C:\\Users\\vladi\\Downloads\\quinta\\matriculas\\1555530593569.pdf\n",
      "Tamanho do texto: 3393 caracteres\n",
      "\n",
      "Arquivo 2: C:\\Users\\vladi\\Downloads\\quinta\\matriculas\\8444428223126.pdf\n",
      "Tamanho do texto: 2899 caracteres\n",
      "\n",
      "Arquivo 3: C:\\Users\\vladi\\Downloads\\quinta\\matriculas\\8787702651030.pdf\n",
      "Tamanho do texto: 17027 caracteres\n"
     ]
    }
   ],
   "source": [
    "texto = []\n",
    "for arquivo in arquivos:\n",
    "    matricula = {\n",
    "        'local_arquivo': diretorio + '\\\\' + arquivo,\n",
    "        'conteudo': None\n",
    "    }\n",
    "    \n",
    "    try:\n",
    "        # Usando a função com parâmetros otimizados\n",
    "        conteudo = extrair_texto(\n",
    "            matricula['local_arquivo'],\n",
    "            min_text_length=1000,  # Ajuste conforme necessário\n",
    "            apply_ocr_if_less=True\n",
    "        )\n",
    "        \n",
    "        if conteudo:\n",
    "            matricula['conteudo'] = conteudo\n",
    "            texto.append(matricula)\n",
    "        else:\n",
    "            print(f\"Atenção: Nenhum conteúdo extraído de {arquivo}\")\n",
    "            \n",
    "    except Exception as e:\n",
    "        print(f\"Erro ao processar {arquivo}: {str(e)}\")\n",
    "        continue\n",
    "\n",
    "# Verificação dos resultados\n",
    "for i, item in enumerate(texto):\n",
    "    print(f\"\\nArquivo {i+1}: {item['local_arquivo']}\")\n",
    "    print(f\"Tamanho do texto: {len(item['conteudo']) if item['conteudo'] else 0} caracteres\")\n",
    "    "
   ]
  },
  {
   "cell_type": "code",
   "execution_count": 17,
   "id": "df54320f-e5bc-447b-b1bb-1fe9e038b9d2",
   "metadata": {},
   "outputs": [
    {
     "data": {
      "text/plain": [
       "[{'local_arquivo': 'C:\\\\Users\\\\vladi\\\\Downloads\\\\quinta\\\\matriculas\\\\1555530593569.pdf',\n",
       "  'conteudo': 'Páigina 1 / 5\\n8º REGISTRO DE IMÓVEIS DE CURITIBA \\nCódigo Nacional de Matrícula: 83238.2.0178864-36 \\nCERTIDÃO\\nAssinado por: CARLA RUBIA DOS \\n \\nSANTOS\\nNo dia: 30/07/2024\\nDocumento assinado eletronicamente com \\ncertificado digitalexpedido nos parâmetros da \\nICP-Brasil, nos termos da Medida Provisória nº \\n2.200-2, de 24/08/2001.\\nConsulte a autenticidade desta certidão em: https://8ricuritiba-pr.sistemaasgard.com.br/#/validar-assinatura, utilizando o código de verificação 9XRZ-WRSB-D3XL-Z8DY.\\n\\nPáigina 2 / 5\\n8º REGISTRO DE IMÓVEIS DE CURITIBA \\nCódigo Nacional de Matrícula: 83238.2.0178864-36 \\nCERTIDÃO\\nAssinado por: CARLA RUBIA DOS \\n \\nSANTOS\\nNo dia: 30/07/2024\\nDocumento assinado eletronicamente com \\ncertificado digitalexpedido nos parâmetros da \\nICP-Brasil, nos termos da Medida Provisória nº \\n2.200-2, de 24/08/2001.\\nConsulte a autenticidade desta certidão em: https://8ricuritiba-pr.sistemaasgard.com.br/#/validar-assinatura, utilizando o código de verificação 9XRZ-WRSB-D3XL-Z8DY.\\n\\nPáigina 3 / 5\\n8º REGISTRO DE IMÓVEIS DE CURITIBA \\nCódigo Nacional de Matrícula: 83238.2.0178864-36 \\nCERTIDÃO\\nAssinado por: CARLA RUBIA DOS \\n \\nSANTOS\\nNo dia: 30/07/2024\\nDocumento assinado eletronicamente com \\ncertificado digitalexpedido nos parâmetros da \\nICP-Brasil, nos termos da Medida Provisória nº \\n2.200-2, de 24/08/2001.\\nConsulte a autenticidade desta certidão em: https://8ricuritiba-pr.sistemaasgard.com.br/#/validar-assinatura, utilizando o código de verificação 9XRZ-WRSB-D3XL-Z8DY.\\n\\nPáigina 4 / 5\\n8º REGISTRO DE IMÓVEIS DE CURITIBA \\nCódigo Nacional de Matrícula: 83238.2.0178864-36 \\nCERTIDÃO\\nAssinado por: CARLA RUBIA DOS \\n \\nSANTOS\\nNo dia: 30/07/2024\\nDocumento assinado eletronicamente com \\ncertificado digitalexpedido nos parâmetros da \\nICP-Brasil, nos termos da Medida Provisória nº \\n2.200-2, de 24/08/2001.\\nConsulte a autenticidade desta certidão em: https://8ricuritiba-pr.sistemaasgard.com.br/#/validar-assinatura, utilizando o código de verificação 9XRZ-WRSB-D3XL-Z8DY.\\n\\nPáigina 5 / 5\\n8º REGISTRO DE IMÓVEIS DE CURITIBA \\nCódigo Nacional de Matrícula: 83238.2.0178864-36 \\nCERTIDÃO\\nAssinado por: CARLA RUBIA DOS \\n \\nSANTOS\\nNo dia: 30/07/2024\\nDocumento assinado eletronicamente com \\ncertificado digitalexpedido nos parâmetros da \\nICP-Brasil, nos termos da Medida Provisória nº \\n2.200-2, de 24/08/2001.\\nCERTIFICO, que a presente fotocópia é reprodução fiel do Matrícula Nº 178.864, do Livro\\n2, de Registro Geral deste Serviço Registral.\\nO referido é verdade e dou fé. Curitiba - PR, 29 de julho de 2024. \\nA presente certidão foi assinada eletronicamente com certificado digital expedido nos\\nparâmetros da ICP-Brasil, cujo subscritor está no roda pé deste documento.\\n \\nFunarpen - Lei 13.228 de 18/07/2001 - Selo Digital Nº SFRII.4JJqP.C3r3z-CeOOq.F398q\\nConsulte a autenticidade do selo no site www.funarpen.com.br\\n \\n8º Registro de Imóveis de Curitiba-PR\\nRua José Loureiro, no 133, 17º andar \\nConfira a autenticidade da assinatura no site: \\n \\nwww.8registro.com.br\\nCom o código constante no rodapé desta página \\nSubscritores autorizados: \\nÍTALO CONTI JÚNIOR - Agente Delegado \\nROZANGELA RODRIGUES DE OLIVEIRA - Substituta Legal \\nCARLA RUBIA DOS SANTOS - Escrevente Indicada \\nSANDRA R. PELEGRINELLI DOS SANTOS - Escrevente Indicada\\nConsulte a autenticidade desta certidão em: https://8ricuritiba-pr.sistemaasgard.com.br/#/validar-assinatura, utilizando o código de verificação 9XRZ-WRSB-D3XL-Z8DY.'},\n",
       " {'local_arquivo': 'C:\\\\Users\\\\vladi\\\\Downloads\\\\quinta\\\\matriculas\\\\8444428223126.pdf',\n",
       "  'conteudo': 'Páigina 1 / 4\\n8º REGISTRO DE IMÓVEIS DE CURITIBA \\nCódigo Nacional de Matrícula: 83238.2.0225535-91 \\nCERTIDÃO\\nAssinado por: CARLA RUBIA DOS \\n \\nSANTOS\\nNo dia: 08/03/2024\\nDocumento assinado eletronicamente com \\ncertificado digitalexpedido nos parâmetros da \\nICP-Brasil, nos termos da Medida Provisória nº \\n2.200-2, de 24/08/2001.\\nConsulte a autenticidade desta certidão em: https://8ricuritiba-pr.sistemaasgard.com.br/#/validar-assinatura, utilizando o código de verificação DGC5-6MFM-D3R6-E8KY.\\n\\nPáigina 2 / 4\\n8º REGISTRO DE IMÓVEIS DE CURITIBA \\nCódigo Nacional de Matrícula: 83238.2.0225535-91 \\nCERTIDÃO\\nAssinado por: CARLA RUBIA DOS \\n \\nSANTOS\\nNo dia: 08/03/2024\\nDocumento assinado eletronicamente com \\ncertificado digitalexpedido nos parâmetros da \\nICP-Brasil, nos termos da Medida Provisória nº \\n2.200-2, de 24/08/2001.\\nConsulte a autenticidade desta certidão em: https://8ricuritiba-pr.sistemaasgard.com.br/#/validar-assinatura, utilizando o código de verificação DGC5-6MFM-D3R6-E8KY.\\n\\nPáigina 3 / 4\\n8º REGISTRO DE IMÓVEIS DE CURITIBA \\nCódigo Nacional de Matrícula: 83238.2.0225535-91 \\nCERTIDÃO\\nAssinado por: CARLA RUBIA DOS \\n \\nSANTOS\\nNo dia: 08/03/2024\\nDocumento assinado eletronicamente com \\ncertificado digitalexpedido nos parâmetros da \\nICP-Brasil, nos termos da Medida Provisória nº \\n2.200-2, de 24/08/2001.\\nConsulte a autenticidade desta certidão em: https://8ricuritiba-pr.sistemaasgard.com.br/#/validar-assinatura, utilizando o código de verificação DGC5-6MFM-D3R6-E8KY.\\n\\nPáigina 4 / 4\\n8º REGISTRO DE IMÓVEIS DE CURITIBA \\nCódigo Nacional de Matrícula: 83238.2.0225535-91 \\nCERTIDÃO\\nAssinado por: CARLA RUBIA DOS \\n \\nSANTOS\\nNo dia: 08/03/2024\\nDocumento assinado eletronicamente com \\ncertificado digitalexpedido nos parâmetros da \\nICP-Brasil, nos termos da Medida Provisória nº \\n2.200-2, de 24/08/2001.\\nCERTIFICO, que a presente fotocópia é reprodução fiel do Matrícula Nº 225.535, do Livro\\n2, de Registro Geral deste Serviço Registral.\\nO referido é verdade e dou fé. Curitiba - PR, 05 de março de 2024. \\nA presente certidão foi assinada eletronicamente com certificado digital expedido nos\\nparâmetros da ICP-Brasil, cujo subscritor está no roda pé deste documento.\\n \\nFunarpen - Lei 13.228 de 18/07/2001 - Selo Digital Nº SFRII.OJezP.FPUvR-xDWL6.F398q\\nConsulte a autenticidade do selo no site www.funarpen.com.br\\n \\n8º Registro de Imóveis de Curitiba-PR\\nRua José Loureiro, no 133, 17º andar \\nConfira a autenticidade da assinatura no site: \\n \\nwww.8registro.com.br\\nCom o código constante no rodapé desta página \\nSubscritores autorizados: \\nÍTALO CONTI JÚNIOR - Agente Delegado \\nROZANGELA RODRIGUES DE OLIVEIRA - Substituta Legal \\nCARLA RUBIA DOS SANTOS - Escrevente Indicada \\nSANDRA R. PELEGRINELLI DOS SANTOS - Escrevente Indicada\\nConsulte a autenticidade desta certidão em: https://8ricuritiba-pr.sistemaasgard.com.br/#/validar-assinatura, utilizando o código de verificação DGC5-6MFM-D3R6-E8KY.'},\n",
       " {'local_arquivo': 'C:\\\\Users\\\\vladi\\\\Downloads\\\\quinta\\\\matriculas\\\\8787702651030.pdf',\n",
       "  'conteudo': '= esse cm = CNM: 080648.2.0099298-51\\nSISTRO DE IMOVEIS FICHA\\n92 CIRCUNSCRIÇÃO\\nfoluntários da Pátria 475 scandar |[REGISTRO GERAL 00 h\\nconj. 505-À - Fone: 3233-6168\\nASTROGILDO GOBRO MATRÍCULA Nº99.298 | )\\nCPF 002307909-68\\nIMÓVEL: Fração ideal do solo e partes comuns de 0,004831088, que co esfonderá ao\\nApartamento nº 103, do bloco 12, o qual será localizado no 1º pavimento do empreendimento\\nPARQUE CORDILHEIRA DOS ANDES, o qual situar-se-á na Rua Theodoro Makiolka, nº\\n285/Rua Maria Noômia dos Santos, nº 11/Rua Professor Loureiro Fernandes, nº 4, Santa\\nCândida, nesta Capital, referido apartamento terá a área construída privativa de utilização exclusiva\\nde 40,2800m?, área de uso comum coberta de 24,1060m?, área total construída de 64,3860m”, e\\nainda vaga de estacionamento descoberta com 12,0000m”, referente a vaga de garagem nº51\\nlivre/descoberta, área privativa descoberta de 8,5000m?, área comum descoberta de 21,0224m?,\\nperfazendo a área correspondente ou global de 105,9084m” e quota do terreno de 108,6646m”. Dito\\ncondominio será construído sobre o lote de terreno B-1 (bê-um), com frente para a Rua Theodoro\\nMakiolka, fazendo esquina com a Rua Maria Noêmia dos Santos, nesta cidade, onde inicia a\\ndescrição das metragens e confrontações: no ponto denominado de 01, localizado junto ao muro de\\ndivisa na esquina da Rua Theodoro Makiolka com a Rua Maria Noêmia dos Santos, de coordenadas\\nN 7192497.9294 e E 678463.5051, segue com azimute 108º17\\'48” e distância de 53,55 metros, até o\\nponto 02 de coordenadas N 7192481.1193 e E 678514.3442, confrontando com a Rua Theodoro\\nMakiolka, que deste segue com azimute de 122º37\\'18” e distância de 13,61 metros, até o ponto 03\\nde coordenadas N 7192473.7842 e E 678525.8043, confrontando com o lote de indicação fiscal nº\\n96.031.014.000, que deste segue com azimute de 126º12\\'53” e distância de 26,28 metros, até o\\nponto 04 de coordenadas N 7192458.2603 e E 678547.0036, confrontando com o lote de indicação\\nfiscal nº 96.031.014.000, que deste segue com azimute de 196º16\\'47” e distância de 12,54 metros,\\naté o ponto 05, de coordenadas N 7192446.2215 e E 678543.4878, confrontando com o lote de\\nindicação fiscal nº 96.031.014.000, que deste segue com o azimute de 106º59\\'58” e distância de\\n34,26 metros, até o ponto 6 de coordenadas N 7192436.2064 e E 678576.2464, confrontando com o\\nlote de indicação fiscal nº 96.031.014.000, que deste segue como azimute de 128º03\\'09” e distância\\nde 17,70 metros, até o ponto 07 de coordenadas N 7192425.2945 e E 6/8590.1867, confrontando\\ncom o lote de indicação fiscal nº 96.031.014.000, que deste segue com o azimute de 132º47\\'51\" e\\ndistância de 14,00 metros, até o ponto 08 de coordenadas N 7192415.7828 e E 678600.4593,\\nconfrontando com o lote de indicação fiscal nº 96.031.014.000, que deste segue com o azimute de\\n142º32\\'11”\" e distância de 16,41 metros, até o ponto 09 de coordenadas N 7192402.7542 e E\\n678610.4433, confrontando com o lote de indicação fiscal nº 96.031.014.000, seguindo com azimute\\nde 220º40\\'14” e distância de 202,00 metros até o ponto 10 de coordenadas N 7192249.5435 e E\\n678478.7980, onde confronta com os lotes de indicações fiscais nºs 96.031.008.000,\\n96.031.009.000, 96.031.010.000 e 96.031.017.000, que deste segue com azimute de 353º2512” e\\ndistância de 65,00 metros até o ponto 11 de coordenadas N 7192314.1154 e E 678471.3496,\\nconfrontando com os lotes de indicações fiscais nºs 96.031.016.000 e 96.031.015.000, que deste\\nsegue com azimute de 308º46\\'49” e distância de 35,10 metros, até o ponto 12 de coordenadas N\\n7192336.0997 e E 678443.9872 confrontando com os lotes de indicações fiscais nºs 96.031.015.000\\ne 96.087.006.000, que deste segue com azimute de 355º45\\'44” e distância de 22,75 metros, até o\\nponto 13 de coordenadas N 7192358.7875 e E 678442.3061 confrontando com a rua Professor\\nLoureiro Fernandes, que deste segue com azimute de 6º05\\'45” e distância de 75,36 metros, até o\\nponto 14 de coordenadas N 7192433.7210 e E 678450.3087, confrontando com os lotes de\\nindicações fiscais nºs 96.088.001, 96.088.002, 96.088.003 e 96.088.008, que deste segue com\\nazimute de 7º03\\'04” e distância de 19,28 metros, até o ponto 15 de coordenadas N 7192452.8541 e\\nE 678452.6753, confrontando com o lote indicação fiscal nº 96.088.009 que deste segue com\\nazimute de 4º22\\'15 e distância de 15,95 metros até o ponto 16 de coordenadas N 7192468.758B6 e E\\n678453.8909, confrontando com o lote de indicação fiscal nº 96.088.010, que deste segue com\\nazimute de 5º57\\'58” e distância de 20,82 metros até o ponto 17 de coordenadas N 7192489.4614 e E\\n678456.0544, confrontando com o lote de indicação fiscal nº 96.088.010, que deste segue com\\nazimute 41º20\\'37” e distância de 11,28 metros, até o ponto 01, inicial desta descrição, confrontando\\ncom a rua Maria Noêmia dos Santos, fechando assim o polígono do terreno, com a área total de\\n22.492,77 metros quadrados. Lote de Indicação Fiscal nº 96.031.002.000.\\n“=\\nPROPRIETÁRIA: MRV ENGENHARIA E PARTICIPAÇÕES S/A, pessoa jurídica de direito privado, O:\\ninscrita no CNPJ/MF. sob nº 08.343.492/0001-20, com sede na Avenida Professór Mario Wemeck, nº oz\\n621, 1º Andar, Bairro Estoril, na cidade de Belo Horizonte - MG. Bo\\n5\\nREGISTRO ANTERIOR: Matrícula nº 98.849, deste 9º Serviço Registrador. Dra\\nSEGUE NO VERSO\\n\\n\\n\\n\\nPágina: 1/3\\n\\n\\nPágina: 1/3\\n\\n\\n:\\n4\\nà\\nj\\n:\\n\\n\\n\\n\\n\\n\\n\\n\\n\\n\\ne]\\n\\n\\nP\\n\\n\\nDra\\nRg\\n\\n\\nes)\\n\\n\\n4\\n\\n\\n\\n\\n\\n\\nns\\n\\n\\ntal\\n\\n\\nPu\\n\\n\\n\\n\\no cé\\n\\n\\n[m] Pio [m]\\n[DF\\n\\n\\nPara consultar a autenticidade, informe na ferramenta\\n\\n\\nRua\\n(\\n\\n\\n\\n\\na]\\n«\\nco\\n“+\\n7\\n[o\\n|\\n>\\n(o)\\nn\\nLO\\nor\\no\\n64)\\nq\\nO)\\nLO\\n>\\nE»)\\n<\\na\\n124]\\n[6]\\nÕ\\nIS)\\na\\n1\\nEe!\\no\\n1\\nÕ\\nam\\n[um\\ne)\\nO\\nU\\n:\\n1\\nÕ\\nES)\\n(40)\\nE\\nq\\nQ\\n(4º)\\nDa\\n=\\nQ\\no\\ne!\\nO\\n5\\no)\\nU\\nq\\n[ço]\\nAe\\nE\\nÕ\\n[um\\nÕ\\nES)\\n[um\\n(40)\\nEs)\\n[E\\nÕ\\n2\\n[um\\nVU\\nE\\n5\\nQ\\nÕ\\nES)\\nU\\no\\nQ\\nU\\nU\\no\\nE\\n>\\n\\n\\nwww. cartoriospr.com.br/validador/ o CNS:\\n\\n\\n08.064-8B\\n\\n\\ne o código de verificação do documento:\\n\\n\\nFGF2DF\\n\\n\\nConsulta disponível por 50 dias\\n\\n\\n\\n\\nCNM: 080648.2.0099298-51\\n—— >» | CONTINUAÇÃO\\n\" 3SERYAÇÕES: As medidas encontrontações do imóvel acima descrito foram indicadas pelos\\neressiidos conforme determing\\' 9 provimento 270/2017 da Corregedoria de Justiça deste Estado. O\\nreferidoA é verdade  e// dou fé. Curitiba, 05 de março de 2018.\\n(a) Registrador.-js\\n/99.298.-Protocolizado sob nº 269.423 em 23/02/2018. Procedo a presente averbação para\\nconstar que o terreno onde se edificará o empreendimento PARQUE CORDILHEIRA DOS ANDES\\npossui uma Área de Bosque Nativo Relevante, cadastrado no Setor Especial de Áreas Verdes,\\njunto à Secretaria Municipal do Meio Ambiente - SMMA, sob o código B.N.R. 53.0-16-01. O Bosque\\nNativo é uma Área destinada a Preservação conforme a Lei 9806 de 3 de janeiro de 2000 - Código\\nFlorestal do Município de Curitiba. É de responsabilidade do proprietário ou possuidor do terreno\\npreservar o Bosque Nativo conforme o Na Florestal do Municipio de Curitiba e Convenção de\\nCondomínio. DA ÁREA DE PRESERVAÇÃO PERMANENTE: Conforme projeto arquitetônico\\naprovado pela Prefeitura Municipal de Curitiba, o terreno onde se edificará o empreendimento\\nPARQUE CORDILHEIRA DOS ANDES possui uma Área de Preservação Permanente situada\\ndentro do Bosque Nativo Relevante acima descrito, com 3.843,26m\\' e raio de 50,00 metros no\\nentorno de uma nascente situada nos fundos do terreno, delimitação esta conforme Art. 4º da Lei\\nFederal nº 12.651 de 25 de maio de 2012, a qual dispõe sobre a proteção da vegetação nativa. A\\nárea de preservação permanente não poderá ser alterada e constitui ônus perpétuo de manutenção\\npelo proprietário da área possuidor ou ocupante a qualquer título, pessoa física ou jurídica, de direito\\npúblico ou primado, conforme Art. 7º da mesma Lei Federal 12.651 de 25 de maio de 2012 e\\nConvenção de) Condomínio, conforme/ consta na averbação nº03 da matrícula nº98.849, deste\\nserviço de registro de imóveis. y eferido é verdade e dou fé. Curitiba, 05 de março de\\n2018.(a) Á JALIAA Registrador.-js\\nPOA\\nR.2/49.298.-Protocolizado sob nº 269.423 em 23/02/2018. De conformidade com Contrato por\\nInstrumento Particular de Compra e Venda com Alienação Fiduciária, contrato nº8.7877.0265103-0,\\nfirmado nesta cidade, aos 22 de janeiro de 2018, do qual uma via fica arquivada neste Serviço de\\nRegistro de Imóveis, MRV ENGENHARIA E PARTICIPAÇÕES S/A, já qualificada, vendeu o imóvel\\nobjeto desta matrícula para: GIULIANA CRISTINE ALBERTI BAUTISTA, brasileira, trabalhadora o\\ndos serviços de contabilidade de caixa e assemelhados, inscrita no CPF/MF. nº 087.529.999-71, CI.\\n9.325.158-0/SESP-PR e seu esposo EMMANUEL CATARINO BAUTISTA, brasileiro, vendedor,\\ninscrito no CPF/MF. nº 074.798.699-16, C.. 9.355.475-2/SESP-PR, casados pelo regime da\\ncomunhão parcial de bens em data de 24/06/2017, residentes e domiciliados na Rua Jose Pinto\\nNovaes, nº 84, Bacacheri, nesta cidade de Curitiba - PR, pelo preço de R$190.910,00 (valor da\\ncompra e venda do terreno:R$24.638,58); pagos da seguinte forma: recursos próprios: R$27.212,74;\\nrecursos do FGTS: R$9.151,26; desconto complemento concedido pleo FGTS: R$2.505,00 e\\nrecursos do financiamento: R$152.041,00. Declaração de Quitação de ITBI nº4632/2018, recolhida\\nno valor de R$4.581,84, sobre a avaliação de R$190.910,00. Foi recolhido o valor de R$381,82,\\ndestinado ao Funrejus através da guia 14000000003340285-5. Certidão Positiva com Efeitos de\\nNegativa de Débitos relativos aos Tributos Federais e a Divida Ativa da União/INSS (unificada) nº\\nSEAA.F417.69EA.3645, emitida em data de 22/12/2017, válida até 20/08/2018, a qual fica arquivada\\nneste servi e registro de imóveis. Código Hash: &. Foi emitida por este serviço de registro de\\nimóveis a Deglaração Sobre Oper imobiliárias - DOI. Custas: R$416,11=(2.156VRC) - Selo:\\nR$4,67. referido é verldde e dou fé. Curitiba 05 de março de\\n2018.(a) Registrador.-js\\nR.3/89.298.-Protocolizado sob nº 269.423 em 23/02/2018. TÍTULO: ALIENAÇÃO FIDUCIÁRIA. De\\nconformidade com o mesmo Contrato mencionado no registro nº 02 acima. DEVEDORES\\nFIDUCIANTES: GIULIANA CRISTINE ALBERTI BAUTISTA e seu esposo EMMANUEL\\nCATARINO BAUTISTA, já qualificados. CREDORA FIDUCIÁRIA: CAIXA ECONÔMICA FEDERAL,\\npessoa jurídica de direito privado, Instituição Financeira constituída sob a forma de Empresa Pública,\\ninscrita no CNPJ/MF. sob nº 00.360.305/0001-04, com sede no no Setor Bancário Sul, Quadra 4,\\nLotes 3/4, na cidade de Brasília - DF. VALOR DA DÍVIDA: R$152.041,00. PRAZO: de construção 37\\nmeses e de amortização 380 meses. JUROS: Taxa de juros Npminal de 6,5000% ao ano e efetiva de\\n6,6971% ao ano. Demais cláusulas e condições do referido Contrato. Não incida Funrejus, conforme\\nArt. 3º, Inciso Vil, alínea “b”, item 11, da Lei nº 12.216/98. Clistas: R$208,05=(fl D78VRC). O referido\\né verdade e dou fé. Curitiba, 05 de março de 2018.(a) egistrador.-ijs\\nAV 4/99.298.-Protocolizado sob nº 289.180 em 04/04/2020 (Título reapreseéntado em 12/05/2020,\\nprorrogado o prazo conforme artigo 536 parágrafo 1º do CN).-. TRANSPORTE DE CONCLUSÃO. De\\nconformidade com Requerimento, datado de 04 de fevereiro de 2020 nesta cidade, acompanhado de\\nCertificado de Vistoria de Conclusão de Obras - CVCO nº 366570, expedido pela Prefeitura Municipal\\ndesta cidade. ART nº 20171274905, expedida pelo CREA-PR e CNDYINSS nº 000562020-88888983,\\nSEGUE\\n\\n\\nDra\\nRg\\n\\n\\nPara consultar a autenticidade, informe na ferramenta\\n\\n\\nwww. cartoriospr.com.br/validador/ o CNS:\\n\\n\\n08.064-8B\\n\\n\\ne o código de verificação do documento:\\n\\n\\nFGF2DF\\n\\n\\nConsulta disponível por 50 dias\\n\\n\\n\\n\\n\\n\\nPágina: 2/3\\n\\n\\nPágina: 2/3\\n\\n\\n:\\n4\\nà\\nj\\n:\\n\\n\\n\\n\\n\\n\\n\\n\\n\\n\\ne]\\n\\n\\nP\\n\\n\\nes)\\n\\n\\n4\\n\\n\\n\\n\\n\\n\\nns\\n\\n\\ntal\\n\\n\\nPu\\n\\n\\n\\n\\no cé\\n\\n\\n[m] Pio [m]\\n[DF\\n\\n\\nof\\nint\\n\\n\\n\\n\\na]\\n«\\nco\\n“+\\n7\\n[o\\n|\\n>\\n(o)\\nn\\nLO\\nor\\no\\n64)\\nq\\nO)\\nLO\\n>\\nE»)\\n<\\na\\n124]\\n[6]\\nÕ\\nIS)\\na\\n1\\nEe!\\no\\n1\\nÕ\\nam\\n[um\\ne)\\nO\\nU\\n:\\n1\\nÕ\\nES)\\n(40)\\nE\\nq\\nQ\\n(4º)\\nDa\\n=\\nQ\\no\\ne!\\nO\\n5\\no)\\nU\\nq\\n[ço]\\nAe\\nE\\nÕ\\n[um\\nÕ\\nES)\\n[um\\n(40)\\nEs)\\n[E\\nÕ\\n2\\n[um\\nVU\\nE\\n5\\nQ\\nÕ\\nES)\\nU\\no\\nQ\\nU\\nU\\no\\nE\\n>\\n\\n\\n\\n\\n\\n\\ne]\\n\\n\\nP\\n\\n\\nes)\\n\\n\\n4\\n\\n\\n\\n\\n\\n\\nns\\n\\n\\ntal\\n\\n\\nPu\\n\\n\\n\\n\\no cé\\n\\n\\n[m] Pio [m]\\n[DF\\n\\n\\n\\n\\n\\n\\na]\\n«\\nco\\n“+\\n7\\n[o\\n|\\n>\\n(o)\\nn\\nLO\\nor\\no\\n64)\\nq\\nO)\\nLO\\n>\\nE»)\\n<\\na\\n124]\\n[6]\\nÕ\\nIS)\\na\\n1\\nEe!\\no\\n1\\nÕ\\nam\\n[um\\ne)\\nO\\nU\\n:\\n1\\nÕ\\nES)\\n(40)\\nE\\nq\\nQ\\n(4º)\\nDa\\n=\\nQ\\no\\ne!\\nO\\n5\\no)\\nU\\nq\\n[ço]\\nAe\\nE\\nÕ\\n[um\\nÕ\\nES)\\n[um\\n(40)\\nEs)\\n[E\\nÕ\\n2\\n[um\\nVU\\nE\\n5\\nQ\\nÕ\\nES)\\nU\\no\\nQ\\nU\\nU\\no\\nE\\n>\\n\\n\\nCNM 080648.2.0099298-51\\n\\n\\n7————— MATRÍCULA ——— imp NO (A O prima\\n\\n\\n| 99.298 | | | 002 |\\nemitida em 26 de marco de 2020. válida até 22 de setembro de 909 ne niaia Enem DEN RDI\\n\\n\\no, E al o EE AGR RENE BSMPRMEIT CRINQUIV CNS\\nneste serviço de registro de imóveis, averba-se que em virtude da conclusão total do\\nempreendimento Condomínio Parque Cordilheira dos Andes, situado na Rua Theodoro\\nMakiolka nº 285; Rua Maria Noêmia dos Santos nº 11 e Rua Professor Loureiro Fernandes nº\\n04, nesta ofdade, conforme averbação nº 390/98 249 n imável nhiatr da nencando mnéstcido\\n\\n\\n. a e eq Aemsta es dia Li AI S\\nencontra-se/ concluído .- Foi rdcplhido o funrejus no valor de R$2,90 conforme guia arquivada.\\nCustas: R$11,58=(60VRC) — Sélg” 4,67. O referido é verdade e dou fé. Curitiba, 28 de maio de 2020.\\nIV Registrador.-appc\\n\\n\\nSuelen Proença Câmara 4\\n— Emp. Jyramentada\\n>\\nAV.5/99.298..Protocolizado sob nº 289.180 em 03/04/2020 (Título reapresentado em 12/05/2020,\\nprorrogado o prazo conforme artigo 536 paráarato 1º do CN) . TRANGDNDTE NE APMBQrI TA Ta\\n\\n\\nEdi id É ee emma rn renato\\nTOTAL EM CONDOMÍNIO. De conformidade com requerimento firmado nesta cidade aos 04 de\\nfevereiro de 2020, o qual fica arquivado neste Serviço de Registro de Imóveis, q empreendimento\\nParque &ordilheira do Andes, foi constituído em condomínio, tendo em vista sua conclusão,\\ncontenta o consta da averbaçãonº 390 e registro nº 391 da matrímila nº OR RAQ Ancia Corri do\\n\\n\\nha ad o aii E So e DS\\nRegi de Imóveis. Foi recofhião o funrejus no valor de R$2,90 conforme guia arquivada. Custas:\\nR$11/59=(GOVRC). O refgfido é verdade e dou fé. Curitiba, 28 de maio de 2020.(a)\\n\\nRegistrador.-appe\\n\\n\\nRo ouelen Lroença or a\\n\\nEmp. Juramenta:\\n— Firmo\\nAV-6/99.298.. Protocolizado sob nº 347.425 em 08/08/2024 (reapresentado em 28/08/2024).\\nINCLUSÃO DA INDICACÃO FISCAL Na rantnrmidara Amma Amin nais e o RR PAR MMEE\\n\\n\\nTres EE E ATE S ME MARA BIRDI ELIZA TIA GUGAVIGO UU\\nOfício Eletrônico, averba-se que o imóvel objeto desta matrícula está atualmente cadastrado com a\\nIndicação Fiscal sob nº 96.031.002.1780. Custas: R$87,26=(315,02 VRC); Fundep: R$4,36. ISS:\\nR$3,49; FUNREJUS 25%: Pet Selo Funarpen: R$8,00 - Selo Fiscalização: SFRI2.P52jv.dL3Xy-\\nDr Ee O referdg 6 verdade dou fá Crritha Na Ha ecotoambea As AnOA FA\\n\\n\\nES ab mara agia o CTRENÃO ERES CR MRE NAS\\n: registrador.-gm. .\\n/ / Suelen Proença Câmara\\nEmp. Juramentada\\nD DÃO OO DA TT —— meme ee\\n\\n\\nmen Ia não pa remain 4d EM UBNIOIAULS (reapresentado em 28/08/2024).\\nCONSOLIDAÇÃO DA PROPRIEDADE. Conforme requerimento firmado na cidade de Florianópolis-\\nSC, aos 17 de junho de 2024 e demais documentos comprobatórios, recebidos através do ofício\\neletrônico e tendo em vista que os devedores fiduciantes: GIULIANA CRISTINE ALBERTI\\nRBAÍIITIGTA A cal acrrar PRARMALIIC! ALAPAMRILIA Marimmma cris Se. da o\\n\\n\\narm tati a a e SPEA NS PATNIENÃS EBPANS DIO TA, Jd IGENHTICADOS E Quailticados, após\\nserem notificados, não purgaram a mora da divida constante da alienação fiduciária, objeto do R-3,\\nportanto, fica consolidada a propriedade em nome da credora fiduciária: CAIXA ECONOMICA\\nFEDERAL - CEF, já identificada, no valor de R$21 5.000,00 (duzentos e quinze mil reais), passando\\na mesma a car nrnnrotária da imávual Abanm angina Pelo og EM E —\\n\\n\\na área de bosque nativo ralevanta Pestana as da ram SAT PAO) 61 ri ÇÃO NM VI, retorente\\naárea de bosque nativo relevante. Declaração de Quitação de ITBI nº 27553/2024, recolhida sobre\\na avaliação de R$215.000,00. Foi recolhido o valor de R$430,00, destinado ao Funrejus através da\\nguia 14000000010699738-1. Realizada a consulta a base de dados da Central de Indisponibilidades\\nde Bens - CNIB - cádian haeh: 274 Nda? EAR GANA 004 GAR ms en A ST\\n\\n\\neirno Leon smas nar rs so Or sf rtathd= MERENDREA AA TAdÃO. GENAS. ALL. ÚMUT. JIU), VADE.\\n21b5. 3ff8. 5b38. be89. dO1d. 31af. c5b4. 14fe. 5411 e efa. eOfd. BABI. c564. aa99. cbd1. cOcd. 83f5.\\n01a0. 6684. Foi emitida por este serviço de registro de imóveis a Declaração sobre Operações\\nImobiliárias - DOI. Custas: REST 2 te tee VRC); Fundep: R$39:8B. ISS: R$23,88; Selo\\nFunarpen: R$8 00 - Selo Fiscalização: SERIO DÉBIL ANXu evAla CANNA A eso UN EMEA\\n\\n\\nPr ar aço A dad ada a dom ER added TAS do Vir UU\\nfé. Curitiba, 03 de setembro de 2024. (a) egistrador.-gm.\\nEmp. Juramentada\\n——— TO NAM\\n\\n\\nCERTIFICOgue a presente fotocópia é reprodução: fiel da matrícula nº 99.298, Registro Geral, desta Serventia. O referido é verdade e dou fé. Curitiba,\\n03 de setembro de 2024. Certidão emitida às 14:30:28.\\nCERTIDÃO Nº 347425\\n| CM sa DOE Maã ]\\n\\n\\nN [nlgisia a]\\nari — —— SEGUENOVERSO\\ne\\nEr. o [om\\nCr htm 0 A\\n\\n\\nMa Mada a al\\nELO DE FISCALIZAÇÃ\\nSFRII.9]J9P.NF3HN\\nkvpId.F490q\\nhttps: //selo.funarpen. com.br\\n\\n\\n\\n\\n\\n\\nDra\\nRg\\n\\n\\nPara consultar a autenticidade, informe na ferramenta\\n\\n\\nwww. cartoriospr.com.br/validador/ o CNS:\\n\\n\\n08.064-8B\\n\\n\\ne o código de verificação do documento:\\n\\n\\nFGF2DF\\n\\n\\nConsulta disponível por 50 dias\\n\\n\\n\\n\\n|\\n\\n\\nPágina: 3/83\\n\\n\\nPágina: 3/83\\n\\n\\n:\\n4\\nà\\nj\\n:\\n\\n\\nLim\\nO\\n[]\\nq\\ndd\\nca\\nE 2\\nq O\\nBO\\no\\nTE\\nES\\nú q\\na\\n2\"\\nc q\\no +\\nE\\nEE\\nta\\n85\\n[am |\\nor\\nE!\\nB.\\nO É.\\nDs:\\n4\\nsm os\\n\\n\\nsia Ss\\n(Ng:'}]"
      ]
     },
     "execution_count": 17,
     "metadata": {},
     "output_type": "execute_result"
    }
   ],
   "source": [
    "texto"
   ]
  },
  {
   "cell_type": "code",
   "execution_count": 18,
   "id": "870a20bb-f3af-4458-b8ab-348b2b6441a6",
   "metadata": {},
   "outputs": [
    {
     "name": "stdout",
     "output_type": "stream",
     "text": [
      "\n",
      "Processando: C:\\Users\\vladi\\Downloads\\quinta\\matriculas\\1555530593569.pdf\n",
      "Métodos usados por página: ['DIRETO', 'DIRETO', 'DIRETO', 'DIRETO', 'DIRETO']\n",
      "Dados extraídos: {'matricula': None, 'endereco': None, 'proprietario': None}\n",
      "\n",
      "Processando: C:\\Users\\vladi\\Downloads\\quinta\\matriculas\\8444428223126.pdf\n",
      "Métodos usados por página: ['DIRETO', 'DIRETO', 'DIRETO', 'DIRETO']\n",
      "Dados extraídos: {'matricula': None, 'endereco': None, 'proprietario': None}\n",
      "\n",
      "Processando: C:\\Users\\vladi\\Downloads\\quinta\\matriculas\\8787702651030.pdf\n",
      "Métodos usados por página: ['OCR', 'OCR', 'OCR']\n",
      "Dados extraídos: {'matricula': None, 'endereco': 'Fração ideal do solo e partes comuns de 0,004831088, que co wspondera ao', 'proprietario': 'proprietário ou possuidor do terreno'}\n"
     ]
    }
   ],
   "source": [
    "import fitz  # PyMuPDF\n",
    "import pytesseract\n",
    "from pdf2image import convert_from_path\n",
    "from PIL import Image\n",
    "import io\n",
    "import re\n",
    "\n",
    "def extract_max_text(path, min_text_length=100):\n",
    "    \"\"\"\n",
    "    Extrai o máximo de texto possível combinando métodos direto e OCR,\n",
    "    com verificação por página para otimização.\n",
    "    \n",
    "    Retorna:\n",
    "        dict: {\n",
    "            'texto_completo': texto combinado,\n",
    "            'paginas_validas': nº de páginas com texto válido,\n",
    "            'metodos_por_pagina': lista dos métodos usados por página\n",
    "        }\n",
    "    \"\"\"\n",
    "    # Configuração do Tesseract (ajuste para seu Windows)\n",
    "    pytesseract.pytesseract.tesseract_cmd = r'C:\\Program Files\\Tesseract-OCR\\tesseract.exe'\n",
    "    \n",
    "    result = {\n",
    "        'texto_completo': '',\n",
    "        'paginas_validas': 0,\n",
    "        'metodos_por_pagina': []\n",
    "    }\n",
    "    \n",
    "    # Método 1: Extração direta com PyMuPDF\n",
    "    texto_direto_por_pagina = []\n",
    "    with fitz.open(path) as doc:\n",
    "        for page_num in range(len(doc)):\n",
    "            page = doc.load_page(page_num)\n",
    "            texto = page.get_text().strip()\n",
    "            texto_direto_por_pagina.append(texto)\n",
    "            \n",
    "            # Verifica se o texto é válido\n",
    "            if len(texto) >= min_text_length:\n",
    "                result['metodos_por_pagina'].append('DIRETO')\n",
    "                result['paginas_validas'] += 1\n",
    "            else:\n",
    "                result['metodos_por_pagina'].append('OCR NECESSÁRIO')\n",
    "    \n",
    "    # Se todas as páginas têm texto válido, retorna\n",
    "    if all(m == 'DIRETO' for m in result['metodos_por_pagina']):\n",
    "        result['texto_completo'] = '\\n\\n'.join(texto_direto_por_pagina)\n",
    "        return result\n",
    "    \n",
    "    # Método 2: OCR para páginas problemáticas\n",
    "    texto_combinado = []\n",
    "    with fitz.open(path) as doc:\n",
    "        for page_num in range(len(doc)):\n",
    "            # Reutiliza texto direto se for válido\n",
    "            if result['metodos_por_pagina'][page_num] == 'DIRETO':\n",
    "                texto_combinado.append(texto_direto_por_pagina[page_num])\n",
    "                continue\n",
    "                \n",
    "            # Tenta OCR para a página\n",
    "            try:\n",
    "                # Primeiro tenta extrair de imagens embutidas\n",
    "                page = doc.load_page(page_num)\n",
    "                texto_ocr = ''\n",
    "                \n",
    "                # Extrai imagens da página\n",
    "                for img_index, img in enumerate(page.get_images(full=True)):\n",
    "                    xref = img[0]\n",
    "                    base_image = doc.extract_image(xref)\n",
    "                    image_bytes = base_image[\"image\"]\n",
    "                    image = Image.open(io.BytesIO(image_bytes))\n",
    "                    \n",
    "                    # Configurações otimizadas para documentos brasileiros\n",
    "                    custom_config = r'--oem 3 --psm 6 -l por+eng'\n",
    "                    texto_ocr += pytesseract.image_to_string(image, config=custom_config) + '\\n'\n",
    "                \n",
    "                # Se OCR de imagens embutidas não foi suficiente, converte a página completa\n",
    "                if len(texto_ocr.strip()) < min_text_length:\n",
    "                    images = convert_from_path(path, first_page=page_num+1, last_page=page_num+1)\n",
    "                    if images:\n",
    "                        texto_ocr = pytesseract.image_to_string(images[0], config=custom_config)\n",
    "                \n",
    "                if texto_ocr.strip():\n",
    "                    result['metodos_por_pagina'][page_num] = 'OCR'\n",
    "                    result['paginas_validas'] += 1\n",
    "                    texto_combinado.append(texto_ocr)\n",
    "                else:\n",
    "                    result['metodos_por_pagina'][page_num] = 'FALHA'\n",
    "                    \n",
    "            except Exception as e:\n",
    "                print(f\"Erro no OCR da página {page_num+1}: {str(e)}\")\n",
    "                result['metodos_por_pagina'][page_num] = 'FALHA'\n",
    "                continue\n",
    "    \n",
    "    result['texto_completo'] = '\\n\\n'.join(texto_combinado)\n",
    "    return result\n",
    "\n",
    "def extrair_dados_imovel(texto_completo):\n",
    "    \"\"\"\n",
    "    Extrai dados específicos do imóvel do texto combinado\n",
    "    \"\"\"\n",
    "    dados = {\n",
    "        'matricula': None,\n",
    "        'endereco': None,\n",
    "        'proprietario': None\n",
    "    }\n",
    "    \n",
    "    # Expressões regulares para encontrar os dados\n",
    "    padrao_matricula = re.compile(r'Mat[ríí]cula\\s*N?[º°]?\\s*([\\d.,-]+)', re.IGNORECASE)\n",
    "    padrao_codigo_nacional = re.compile(r'C[óo]digo\\s*Nacional\\s*de\\s*Mat[ríí]cula:\\s*([\\d.-]+)')\n",
    "    \n",
    "    # Tenta encontrar a matrícula\n",
    "    for padrao in [padrao_codigo_nacional, padrao_matricula]:\n",
    "        match = padrao.search(texto_completo)\n",
    "        if match:\n",
    "            dados['matricula'] = match.group(1).strip()\n",
    "            break\n",
    "    \n",
    "    # Extrai endereço (procura por padrões comuns)\n",
    "    padrao_endereco = re.compile(\n",
    "        r'(?:IM[ÓO]VEL|Localiza..o|Endere.o)[:\\s]*(.*?)(?:\\n|$)|'\n",
    "        r'(Rua|Avenida|Av\\.|Praça|Travessa)\\s+([^,\\n]+),\\s*(n?[º°]?\\s*\\d+[^\\n]*)',\n",
    "        re.IGNORECASE | re.DOTALL\n",
    "    )\n",
    "    \n",
    "    match = padrao_endereco.search(texto_completo)\n",
    "    if match:\n",
    "        dados['endereco'] = ' '.join([g for g in match.groups() if g]).strip()\n",
    "    \n",
    "    # Extrai proprietário (procura por termos jurídicos)\n",
    "    padrao_proprietario = re.compile(\n",
    "        r'(PROPRIET[AÁ]RIO|TITULAR|ADQUIRENTE)[:\\s]*(.*?)(?:\\n|$)'\n",
    "        r'|(?:Consolidada a propriedade em nome de|vendido para|transfere para)\\s*(.*?)(?:\\n|$)',\n",
    "        re.IGNORECASE | re.DOTALL\n",
    "    )\n",
    "    \n",
    "    match = padrao_proprietario.search(texto_completo)\n",
    "    if match:\n",
    "        dados['proprietario'] = ' '.join([g for g in match.groups() if g]).strip()\n",
    "    \n",
    "    return dados\n",
    "\n",
    "# Exemplo de uso:\n",
    "arquivos = [\n",
    "    'C:\\\\Users\\\\vladi\\\\Downloads\\\\quinta\\\\matriculas\\\\1555530593569.pdf',\n",
    "    'C:\\\\Users\\\\vladi\\\\Downloads\\\\quinta\\\\matriculas\\\\8444428223126.pdf',\n",
    "    'C:\\\\Users\\\\vladi\\\\Downloads\\\\quinta\\\\matriculas\\\\8787702651030.pdf'\n",
    "]\n",
    "\n",
    "resultados = []\n",
    "for arquivo in arquivos:\n",
    "    print(f\"\\nProcessando: {arquivo}\")\n",
    "    \n",
    "    # Extrai o máximo de texto possível\n",
    "    extracao = extract_max_text(arquivo)\n",
    "    \n",
    "    # Extrai dados específicos\n",
    "    dados = extrair_dados_imovel(extracao['texto_completo'])\n",
    "    \n",
    "    # Armazena resultados\n",
    "    resultados.append({\n",
    "        'arquivo': arquivo,\n",
    "        'metodos_por_pagina': extracao['metodos_por_pagina'],\n",
    "        'dados': dados,\n",
    "        'texto_completo': extracao['texto_completo'][:500] + \"...\"  # Amostra do texto\n",
    "    })\n",
    "    \n",
    "    print(f\"Métodos usados por página: {extracao['metodos_por_pagina']}\")\n",
    "    print(f\"Dados extraídos: {dados}\")\n",
    "\n",
    "# resultados contém todos os dados coletados"
   ]
  },
  {
   "cell_type": "code",
   "execution_count": null,
   "id": "1c5c45e8-a7b3-4519-ada7-080dc9509306",
   "metadata": {},
   "outputs": [],
   "source": []
  }
 ],
 "metadata": {
  "kernelspec": {
   "display_name": "Python 3 (ipykernel)",
   "language": "python",
   "name": "python3"
  },
  "language_info": {
   "codemirror_mode": {
    "name": "ipython",
    "version": 3
   },
   "file_extension": ".py",
   "mimetype": "text/x-python",
   "name": "python",
   "nbconvert_exporter": "python",
   "pygments_lexer": "ipython3",
   "version": "3.11.1"
  }
 },
 "nbformat": 4,
 "nbformat_minor": 5
}
